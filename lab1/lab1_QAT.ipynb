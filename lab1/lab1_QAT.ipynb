{
 "cells": [
  {
   "cell_type": "code",
   "execution_count": 1,
   "metadata": {},
   "outputs": [],
   "source": [
    "# This script introduces QAT (Quantization Aware Training)"
   ]
  },
  {
   "cell_type": "code",
   "execution_count": 2,
   "metadata": {},
   "outputs": [],
   "source": [
    "# 引用外部软件包\n",
    "import torch # pytorch包\n",
    "import torchvision # torchvision是pytorch官方提供的工具，包含很多常用数据集的封装等\n",
    "import torchvision.transforms as transforms\n",
    "import torch.nn as nn # nn 和下面的F均包含了主要的神经网络模块，包括卷积层、全连接层、池化层等等\n",
    "import torch.nn.functional as F\n",
    "import torch.optim as optim # 优化器\n",
    "\n",
    "data_dir = \"./data\" # directory to download the dataset\n",
    "epochs = 5 # number of epochs to train the model"
   ]
  },
  {
   "cell_type": "code",
   "execution_count": 3,
   "metadata": {},
   "outputs": [],
   "source": [
    "# 确保device为gpu，否则会花费过长时间。\n",
    "if torch.cuda.is_available():\n",
    "    device = torch.device('cuda')\n",
    "else:\n",
    "    device = torch.device('cpu')\n"
   ]
  },
  {
   "cell_type": "code",
   "execution_count": 4,
   "metadata": {},
   "outputs": [
    {
     "name": "stdout",
     "output_type": "stream",
     "text": [
      "Downloading https://www.cs.toronto.edu/~kriz/cifar-10-python.tar.gz to /home/tsinghuaee51/cifar10\\cifar-10-python.tar.gz\n"
     ]
    },
    {
     "name": "stderr",
     "output_type": "stream",
     "text": [
      "100%|██████████| 170498071/170498071 [00:21<00:00, 8110237.85it/s] \n"
     ]
    },
    {
     "name": "stdout",
     "output_type": "stream",
     "text": [
      "Extracting /home/tsinghuaee51/cifar10\\cifar-10-python.tar.gz to /home/tsinghuaee51/cifar10\n",
      "Files already downloaded and verified\n"
     ]
    }
   ],
   "source": [
    "# Load training and test data from the CIFAR10 dataset.\n",
    "# torchvision是pytorch官方集成的工具库，包括学界常用的数据集和数据预处理方式。\n",
    "transform = transforms.Compose(\n",
    "    [transforms.ToTensor(), # 将数据归一化，并转换成tensor的形式\n",
    "     transforms.Normalize((0.5, 0.5, 0.5), (0.5, 0.5, 0.5))]) # 预处理数据的方式，normalize是将图像进行规则化。\n",
    "\n",
    "trainset = torchvision.datasets.CIFAR10(root= data_dir+\"/train\", train=True,\n",
    "                                        download=True, transform=transform) #定义了训练集，path是训练数据所在地址。\n",
    "trainloader = torch.utils.data.DataLoader(trainset, batch_size=4,\n",
    "                                          shuffle=True, num_workers=2) #定义数据迭代器，batchsize为一次迭代训练，送进去图像的数量（可以尝试调整，看看会发生什么）。shuffle表示要不要打乱训练图像的排序。\n",
    "\n",
    "testset = torchvision.datasets.CIFAR10(root=data_dir+\"/test\", train=False,\n",
    "                                       download=True, transform=transform)\n",
    "testloader = torch.utils.data.DataLoader(testset, batch_size=4,\n",
    "                                         shuffle=False, num_workers=2)"
   ]
  },
  {
   "cell_type": "code",
   "execution_count": 5,
   "metadata": {},
   "outputs": [],
   "source": [
    "# Define a simple CNN that classifies CIFAR images.\n",
    "# The network provided is similar to LeNet-5, and it has the following architecture:\n",
    "\n",
    "# **Layer** |     **Type**    | **Input Shape** | **Output Shape** | **Activation**\n",
    "#   conv1   |  Convolutional  |     3x32x32     |     6x28x28      |      ReLU \n",
    "#   pool1   |     Max pool    |     6x28x28     |     6x14x14      |      None                \n",
    "#   conv2   |  Convolutional  |     6x14x14     |     16x10x10     |      ReLU                \n",
    "#   pool2   |     Max pool    |     16x10x10    |     16x5x5       |      None                \n",
    "#   fc1     | Fully-connected |       400       |       120        |      ReLU                \n",
    "#   fc2     | Fully-connected |       120       |       84         |      ReLU                \n",
    "#   fc3     | Fully-connected |       84        |       10         |      None                \n",
    "\n",
    "# None of the layers in the network have a bias associated with them.\n",
    "# This makes them easier to quantize.\n",
    "# Towards the end of this assignment, we will add biases to the final layer and quantize it as well."
   ]
  },
  {
   "cell_type": "code",
   "execution_count": 6,
   "metadata": {},
   "outputs": [],
   "source": [
    "# 重新定义conv函数与fc函数\n",
    "import math\n",
    "def TorchRound():\n",
    "    \"\"\"\n",
    "    Apply STE to clamp function.\n",
    "    \"\"\"\n",
    "    class identity_quant(torch.autograd.Function):\n",
    "        @staticmethod\n",
    "        def forward(ctx, input):\n",
    "            out = torch.round(input)\n",
    "            return out\n",
    "\n",
    "        @staticmethod\n",
    "        def backward(ctx, grad_output):\n",
    "            return grad_output\n",
    "\n",
    "    return identity_quant().apply\n",
    "\n",
    "def quant_max(tensor):\n",
    "    \"\"\"\n",
    "    Returns the max value for symmetric quantization.\n",
    "    \"\"\"\n",
    "    return torch.abs(tensor.detach()).max() + 1e-8\n",
    "\n",
    "class quant_weight(nn.Module):\n",
    "    \"\"\"\n",
    "    Quantization function for quantize weight with maximum.\n",
    "    \"\"\"\n",
    "\n",
    "    def __init__(self, k_bits=8):\n",
    "        super(quant_weight, self).__init__()\n",
    "        self.k_bits = k_bits\n",
    "        self.qmax = 2. ** (k_bits -1) - 1.\n",
    "        self.round = TorchRound()\n",
    "\n",
    "    def forward(self, input):\n",
    "        max_val = quant_max(input)\n",
    "        weight = input * self.qmax / max_val\n",
    "        q_weight = self.round(weight)\n",
    "        q_weight = q_weight * max_val / self.qmax\n",
    "        return q_weight\n",
    "\n",
    "class QuantConv2d(nn.Module):\n",
    "    \"\"\"\n",
    "    A convolution layer with quantized weight.\n",
    "    \"\"\"\n",
    "\n",
    "    def __init__(self, in_channels, out_channels, kernel_size, stride=1,\n",
    "                    padding=0, dilation=1, groups=1, bias=False, k_bits=8): # 默认使用bias=False的情况\n",
    "        super(QuantConv2d, self).__init__()\n",
    "        self.weight = nn.Parameter(torch.Tensor(out_channels,in_channels,kernel_size,kernel_size))\n",
    "        self.stride = stride\n",
    "        self.padding = padding\n",
    "        self.dilation = dilation\n",
    "        self.groups = groups\n",
    "        self.in_channels = in_channels\n",
    "        self.kernel_size = (kernel_size, kernel_size)\n",
    "        self.bias_flag = bias\n",
    "        if self.bias_flag:\n",
    "            self.bias = nn.Parameter(torch.Tensor(out_channels))\n",
    "            nn.init.constant_(self.bias)\n",
    "        else:\n",
    "            self.register_parameter('bias', None)\n",
    "        self.k_bits = k_bits\n",
    "        self.quant_weight = quant_weight(k_bits = k_bits)\n",
    "        self.output = None\n",
    "        nn.init.kaiming_normal_(self.weight) # 初始化参数\n",
    "        \n",
    "\n",
    "    def forward(self, input, order=None):\n",
    "        return F.conv2d(input, self.quant_weight(self.weight), self.bias, self.stride, self.padding, self.dilation, self.groups)\n",
    "\n",
    "class QuantFC(nn.Module):\n",
    "    \"\"\"\n",
    "    A Fully Connected layer with quantized weight.\n",
    "    \"\"\"\n",
    "\n",
    "    def __init__(self, in_features, out_features, bias=False, k_bits=8): # 默认使用bias=False的情况\n",
    "        super(QuantFC, self).__init__()\n",
    "        self.weight = nn.Parameter(torch.Tensor(out_features, in_features))\n",
    "        self.bias_flag = bias\n",
    "        if self.bias_flag:\n",
    "            self.bias = nn.Parameter(torch.Tensor(out_features))\n",
    "        else:\n",
    "            self.register_parameter('bias', None)\n",
    "        self.k_bits = k_bits\n",
    "        self.quant_weight = quant_weight(k_bits = k_bits)\n",
    "        nn.init.kaiming_normal_(self.weight) # 初始化参数\n",
    "\n",
    "\n",
    "    def forward(self, input, order=None):\n",
    "        return F.linear(input, self.quant_weight(self.weight), self.bias)"
   ]
  },
  {
   "cell_type": "code",
   "execution_count": 7,
   "metadata": {},
   "outputs": [],
   "source": [
    "class quant_act(nn.Module):\n",
    "    \"\"\"\n",
    "    Quantization function for quantize activation with parameterized max scale.\n",
    "    \"\"\"\n",
    "    def __init__(self, k_bits=8, decay=0.5):\n",
    "        super(quant_act, self).__init__()\n",
    "        self.k_bits = k_bits\n",
    "        self.qmax = 2. ** (self.k_bits -1) -1.\n",
    "        self.round = TorchRound()\n",
    "        self.decay = decay\n",
    "        self.alpha = nn.Parameter(torch.Tensor(10))\n",
    "        self.register_buffer('max_val', torch.ones(1))\n",
    "\n",
    "    def _ema(self, x):\n",
    "        act = x.reshape(x.shape[0], -1)\n",
    "        # print(act.shape)\n",
    "        max_val = torch.mean(torch.max(act, dim=1)[0])\n",
    "\n",
    "        self.max_val = (1.0-self.decay) * max_val + self.decay * self.max_val\n",
    "\n",
    "    def forward(self, x):\n",
    "            \n",
    "        \n",
    "        act = x\n",
    "        self._ema(x)\n",
    "        self.alpha.data = self.max_val.unsqueeze(0)\n",
    "        act = torch.max(torch.min(x, self.alpha), -self.alpha)\n",
    "        \n",
    "        act = act * self.qmax / self.alpha\n",
    "        q_act = self.round(act)\n",
    "        q_act = q_act * self.alpha / self.qmax\n",
    "    \n",
    "        return q_act"
   ]
  },
  {
   "cell_type": "code",
   "execution_count": 8,
   "metadata": {},
   "outputs": [],
   "source": [
    "# 网络定义，conv2d是卷积层，linear是全连接层。forward下定义了计算图，显示送进来的图像（x）会怎么处理。\n",
    "class Net(nn.Module):\n",
    "    #网络结构:2层卷积层、1层最大值池化层、3层全连接层，留意这些参数的内涵\n",
    "    def __init__(self):\n",
    "        super(Net, self).__init__()\n",
    "        self.conv1 = QuantConv2d(3, 6, 5, bias=False, k_bits=8) # Weight for 8bit\n",
    "        self.pool = nn.MaxPool2d(2, 2) \n",
    "        self.conv2 = QuantConv2d(6, 16, 5, bias=False, k_bits=8)\n",
    "        self.fc1 = QuantFC(16 * 5 * 5, 120, bias=False, k_bits=8)\n",
    "        self.fc2 = QuantFC(120, 84, bias=False, k_bits=8)\n",
    "        self.fc3 = QuantFC(84, 10, bias=False, k_bits=8)\n",
    "\n",
    "        self.quant_act1 = quant_act(k_bits=8) # activation for 8 bit\n",
    "        self.quant_act2 = quant_act(k_bits=8)\n",
    "        self.quant_act3 = quant_act(k_bits=8)\n",
    "        self.quant_act4 = quant_act(k_bits=8)\n",
    "        # self.quant_act5 = quant_act(k_bits=8)\n",
    "    #定义前向传播,将tensor数据送入网络之后的计算图\n",
    "    def forward(self, x: torch.Tensor) -> torch.Tensor:\n",
    "        x = self.pool(F.relu(self.conv1(x)))\n",
    "        x = self.quant_act1(x)\n",
    "\n",
    "        x = self.pool(F.relu(self.conv2(x)))\n",
    "        x = self.quant_act2(x)\n",
    "\n",
    "        x = x.view(-1, 16 * 5 * 5)\n",
    "        x = F.relu(self.fc1(x))\n",
    "        x = self.quant_act3(x)\n",
    "\n",
    "        x = F.relu(self.fc2(x))\n",
    "        x = self.quant_act4(x)\n",
    "\n",
    "        x = self.fc3(x)\n",
    "        # x = self.quant_act5(x)\n",
    "        return x\n",
    "\n",
    "net = Net().to(device)\n",
    "# 到这里，我们定义好了网络和数据集的使用方式"
   ]
  },
  {
   "cell_type": "code",
   "execution_count": 9,
   "metadata": {},
   "outputs": [],
   "source": [
    "from torch.utils.data import DataLoader\n",
    "#将训练集的dataloader送入网络进行训练,每次读取batchsize数量的数据\n",
    "def train(model: nn.Module, dataloader: DataLoader):\n",
    "    criterion = nn.CrossEntropyLoss() # loss function（交叉熵损失函数）\n",
    "    optimizer = optim.SGD(model.parameters(), lr=0.001, momentum=0.9) #optimizer，使用SGD优化器训练，第一个参数表示model的所有参数都会参与训练，学习率为0.001，动量为0.9\n",
    "\n",
    "    for epoch in range(epochs):  # loop over the dataset multiple times.\n",
    "        running_loss = 0.0 \n",
    "        for i, data in enumerate(dataloader, 0): # dataloader是数据迭代器，从这里每次读出batchsize数量的数据。\n",
    "            # get the inputs; data is a list of [inputs, labels]\n",
    "            inputs, labels = data\n",
    "\n",
    "            inputs = inputs.to(device)\n",
    "            labels = labels.to(device)\n",
    "\n",
    "            # zero the parameter gradients\n",
    "            optimizer.zero_grad()\n",
    "            \n",
    "            # forward + backward + optimize\n",
    "            outputs = model(inputs) # 将数据送进网络，得到结果\n",
    "            loss = criterion(outputs, labels) # 计算结果和标签的交叉熵损失函数\n",
    "            loss.backward() # 基于上述损失函数求解梯度\n",
    "            optimizer.step() # 更新参数\n",
    "\n",
    "            # print statistics\n",
    "            running_loss += loss.item() # 将loss的值取出来，记录其变化\n",
    "            if i % 2000 == 1999:    # print every 2000 mini-batches\n",
    "                print('[%d, %5d] loss: %.3f' %\n",
    "                    (epoch + 1, i + 1, running_loss / 2000))\n",
    "                running_loss = 0.0\n",
    "\n",
    "    print('Finished Training')\n",
    "\n",
    "def test(model: nn.Module, dataloader: DataLoader, max_samples=None) -> float:\n",
    "    correct = 0\n",
    "    total = 0\n",
    "    n_inferences = 0\n",
    "\n",
    "    with torch.no_grad(): # 测试时不用求解梯度，因此可以设置不计算梯度的模式\n",
    "        for data in dataloader:\n",
    "            images, labels = data\n",
    "\n",
    "            images = images.to(device)\n",
    "            labels = labels.to(device)\n",
    "\n",
    "            outputs = model(images) # get 1 batch worth of image predictions (i.e. 4 predictions of 10 each)\n",
    "            other, predicted = torch.max(outputs.data, 1) # other == values, predicted == indicies\n",
    "            total += labels.size(0)\n",
    "            correct += (predicted == labels).sum().item()\n",
    "\n",
    "            if max_samples:\n",
    "                n_inferences += images.shape[0]\n",
    "                if n_inferences > max_samples:\n",
    "                    break\n",
    "    \n",
    "    return 100 * correct / total"
   ]
  },
  {
   "cell_type": "code",
   "execution_count": 10,
   "metadata": {},
   "outputs": [
    {
     "name": "stdout",
     "output_type": "stream",
     "text": [
      "[1,  2000] loss: 1.892\n",
      "[1,  4000] loss: 1.713\n",
      "[1,  6000] loss: 1.605\n",
      "[1,  8000] loss: 1.556\n",
      "[1, 10000] loss: 1.525\n",
      "[1, 12000] loss: 1.480\n",
      "[2,  2000] loss: 1.436\n",
      "[2,  4000] loss: 1.406\n",
      "[2,  6000] loss: 1.423\n",
      "[2,  8000] loss: 1.394\n",
      "[2, 10000] loss: 1.372\n",
      "[2, 12000] loss: 1.370\n",
      "[3,  2000] loss: 1.293\n",
      "[3,  4000] loss: 1.301\n",
      "[3,  6000] loss: 1.322\n",
      "[3,  8000] loss: 1.323\n",
      "[3, 10000] loss: 1.297\n",
      "[3, 12000] loss: 1.269\n",
      "[4,  2000] loss: 1.221\n",
      "[4,  4000] loss: 1.215\n",
      "[4,  6000] loss: 1.231\n",
      "[4,  8000] loss: 1.227\n",
      "[4, 10000] loss: 1.253\n",
      "[4, 12000] loss: 1.239\n",
      "[5,  2000] loss: 1.157\n",
      "[5,  4000] loss: 1.166\n",
      "[5,  6000] loss: 1.196\n",
      "[5,  8000] loss: 1.190\n",
      "[5, 10000] loss: 1.191\n",
      "[5, 12000] loss: 1.179\n",
      "Finished Training\n"
     ]
    }
   ],
   "source": [
    "train(net, trainloader) # 进行训练，将网络定义和数据迭代器传给train函数。"
   ]
  },
  {
   "cell_type": "code",
   "execution_count": 11,
   "metadata": {},
   "outputs": [
    {
     "name": "stdout",
     "output_type": "stream",
     "text": [
      "Accuracy of the network on the test images: 56.83%\n"
     ]
    }
   ],
   "source": [
    "# Now that the CNN has been trained, let's test it on our test dataset.\n",
    "score = test(net, testloader)\n",
    "print('Accuracy of the network on the test images: {}%'.format(score))"
   ]
  },
  {
   "cell_type": "code",
   "execution_count": 12,
   "metadata": {},
   "outputs": [],
   "source": [
    "# Define a convenience function which we use to copy CNN's.\n",
    "from copy import deepcopy\n",
    "\n",
    "def copy_model(model: nn.Module) -> nn.Module:\n",
    "    result = deepcopy(model)\n",
    "\n",
    "    # Copy over the extra metadata we've collected which copy.deepcopy doesn't capture\n",
    "    if hasattr(model, 'input_activations'):\n",
    "        result.input_activations = deepcopy(model.input_activations)\n",
    "\n",
    "    for result_layer, original_layer in zip(result.children(), model.children()):\n",
    "        if isinstance(result_layer, nn.Conv2d) or isinstance(result_layer, nn.Linear):\n",
    "            if hasattr(original_layer.weight, 'scale'):\n",
    "                result_layer.weight.scale = deepcopy(original_layer.weight.scale)\n",
    "            if hasattr(original_layer, 'activations'):\n",
    "                result_layer.activations = deepcopy(original_layer.activations)\n",
    "            if hasattr(original_layer, 'output_scale'):\n",
    "                result_layer.output_scale = deepcopy(original_layer.output_scale)\n",
    "\n",
    "    return result"
   ]
  },
  {
   "cell_type": "code",
   "execution_count": 13,
   "metadata": {},
   "outputs": [],
   "source": [
    "# Visualize Weights"
   ]
  },
  {
   "cell_type": "code",
   "execution_count": 14,
   "metadata": {},
   "outputs": [
    {
     "name": "stdout",
     "output_type": "stream",
     "text": [
      "conv1: the range is [-1.08005, 0.96903]\n",
      "conv1: the 3-sigma range is [-1.08005, 0.96903]\n"
     ]
    },
    {
     "data": {
      "image/png": "[encoded data removed]",
      "text/plain": [
       "<Figure size 640x480 with 1 Axes>"
      ]
     },
     "metadata": {},
     "output_type": "display_data"
    },
    {
     "name": "stdout",
     "output_type": "stream",
     "text": [
      "conv2: the range is [-0.66882, 0.79763]\n",
      "conv2: the 3-sigma range is [-0.66882, 0.66882]\n"
     ]
    },
    {
     "data": {
      "image/png": "[encoded data removed]",
      "text/plain": [
       "<Figure size 640x480 with 1 Axes>"
      ]
     },
     "metadata": {},
     "output_type": "display_data"
    },
    {
     "name": "stdout",
     "output_type": "stream",
     "text": [
      "fc1: the range is [-0.50037, 0.66469]\n",
      "fc1: the 3-sigma range is [-0.28616, 0.28616]\n"
     ]
    },
    {
     "data": {
      "image/png": "[encoded data removed]",
      "text/plain": [
       "<Figure size 640x480 with 1 Axes>"
      ]
     },
     "metadata": {},
     "output_type": "display_data"
    },
    {
     "name": "stdout",
     "output_type": "stream",
     "text": [
      "fc2: the range is [-0.50997, 0.50413]\n",
      "fc2: the 3-sigma range is [-0.42109, 0.42109]\n"
     ]
    },
    {
     "data": {
      "image/png": "[encoded data removed]",
      "text/plain": [
       "<Figure size 640x480 with 1 Axes>"
      ]
     },
     "metadata": {},
     "output_type": "display_data"
    },
    {
     "name": "stdout",
     "output_type": "stream",
     "text": [
      "fc3: the range is [-0.41264, 0.43350]\n",
      "fc3: the 3-sigma range is [-0.41264, 0.41264]\n"
     ]
    },
    {
     "data": {
      "image/png": "[encoded data removed]",
      "text/plain": [
       "<Figure size 640x480 with 1 Axes>"
      ]
     },
     "metadata": {},
     "output_type": "display_data"
    }
   ],
   "source": [
    "import matplotlib.pyplot as plt\n",
    "import numpy as np\n",
    "\n",
    "name = ['conv1', 'conv2', 'fc1', 'fc2', 'fc3']\n",
    "n = 0\n",
    "\n",
    "for layer in net.children(): # 遍历类的成员\n",
    "    if isinstance(layer, QuantConv2d) or isinstance(layer, QuantFC):\n",
    "        weight = layer.weight.data.cpu().view(-1).numpy()\n",
    "        print(name[n] + \": the range is [{:.5f}, {:.5f}]\".format(weight.min(), weight.max()))\n",
    "\n",
    "        # find 3-sigma range (u-3s, u+3s), 该范围能囊括99.73%参数\n",
    "        sigma3 = int(np.size(weight)*0.0027) \n",
    "        sigma3_value = np.abs(weight)[np.argpartition(np.abs(weight), -sigma3)[-sigma3]]\n",
    "        print(name[n] + \": the 3-sigma range is [{:.5f}, {:.5f}]\".format(max(-sigma3_value, weight.min()), min(sigma3_value,weight.max())))\n",
    "\n",
    "        plt.hist(weight, bins=50, facecolor=\"blue\", edgecolor=\"black\", alpha=0.7) # 画直方图\n",
    "        plt.xlabel(\"range\")\n",
    "        plt.ylabel(\"frequency\")\n",
    "        plt.title(name[n])\n",
    "        plt.show()\n",
    "        n += 1\n",
    "        \n",
    "# You can get a flattened vector of the weights of fc1 like this:\n",
    "#   fc1_weights = net.fc1.weight.data.cpu().view(-1)"
   ]
  }
 ],
 "metadata": {
  "kernelspec": {
   "display_name": "torch",
   "language": "python",
   "name": "python3"
  },
  "language_info": {
   "codemirror_mode": {
    "name": "ipython",
    "version": 3
   },
   "file_extension": ".py",
   "mimetype": "text/x-python",
   "name": "python",
   "nbconvert_exporter": "python",
   "pygments_lexer": "ipython3",
   "version": "3.9.21"
  },
  "orig_nbformat": 4
 },
 "nbformat": 4,
 "nbformat_minor": 2
}
